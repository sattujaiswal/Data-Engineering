{
 "cells": [
  {
   "cell_type": "markdown",
   "metadata": {},
   "source": [
    "# testing"
   ]
  },
  {
   "cell_type": "markdown",
   "metadata": {},
   "source": [
    "print(\"hello git\")\n",
    "print(\"hello git\")\n",
    "print(\"hello git\")\n",
    "print(\"hello git\")\n",
    "print(\"hello git\")\n",
    "print(\"hello git\")\n",
    "\n",
    "print(\"hello git ggg\")\n",
    "print(\"hello git\")\n",
    "print(\"hello git\")\n",
    "print(\"hello git\")\n",
    "print(\"hello git\")\n",
    "print(\"hello git\")\n"
   ]
  },
  {
   "cell_type": "markdown",
   "metadata": {},
   "source": []
  }
 ],
 "metadata": {
  "kernelspec": {
   "display_name": "Python 3",
   "language": "python",
   "name": "python3"
  },
  "language_info": {
   "name": "python",
   "version": "3.12.1"
  }
 },
 "nbformat": 4,
 "nbformat_minor": 2
}
